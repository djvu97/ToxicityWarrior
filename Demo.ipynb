{
 "cells": [
  {
   "cell_type": "code",
   "execution_count": 1,
   "metadata": {},
   "outputs": [
    {
     "name": "stderr",
     "output_type": "stream",
     "text": [
      "Using TensorFlow backend.\n"
     ]
    }
   ],
   "source": [
    "from keras.models import load_model\n",
    "import pandas as pd\n",
    "import numpy as np\n",
    "import pickle\n",
    "from keras.preprocessing import sequence"
   ]
  },
  {
   "cell_type": "code",
   "execution_count": 2,
   "metadata": {},
   "outputs": [],
   "source": [
    "tokenizer=pickle.load(open('tokenizer.pkl','rb'))\n",
    "model = load_model('my_model.h5')\n",
    "classes = [\"toxic\", \"severe_toxic\", \"obscene\", \"threat\", \"insult\", \"identity_hate\"]"
   ]
  },
  {
   "cell_type": "code",
   "execution_count": 3,
   "metadata": {},
   "outputs": [],
   "source": [
    "####Test on any comment\\\n",
    "comment = \"You are a peice of s**t\"\n",
    "newcomment = tokenizer.texts_to_sequences([comment])\n",
    "newcomment = sequence.pad_sequences(newcomment,maxlen=100)"
   ]
  },
  {
   "cell_type": "code",
   "execution_count": 4,
   "metadata": {},
   "outputs": [
    {
     "name": "stdout",
     "output_type": "stream",
     "text": [
      "CPU times: user 221 ms, sys: 0 ns, total: 221 ms\n",
      "Wall time: 203 ms\n",
      "\n",
      "You are a peice of s**t\n",
      "\n",
      "toxic:[0.984148]\n",
      "severe_toxic:[0.16808178]\n",
      "obscene:[0.91206187]\n",
      "threat:[0.00816964]\n",
      "insult:[0.90268165]\n",
      "identity_hate:[0.02676447]\n",
      "\n"
     ]
    }
   ],
   "source": [
    "%time pred = model.predict(newcomment).T\n",
    "print('\\n' + comment + '\\n')\n",
    "s = \"\"\n",
    "for i,c in enumerate(classes):\n",
    "    s += (c+\":\")\n",
    "    s +=str(pred[i]) + '\\n'\n",
    "print(s)"
   ]
  },
  {
   "cell_type": "code",
   "execution_count": null,
   "metadata": {},
   "outputs": [],
   "source": []
  }
 ],
 "metadata": {
  "kernelspec": {
   "display_name": "Python 3",
   "language": "python",
   "name": "python3"
  },
  "language_info": {
   "codemirror_mode": {
    "name": "ipython",
    "version": 3
   },
   "file_extension": ".py",
   "mimetype": "text/x-python",
   "name": "python",
   "nbconvert_exporter": "python",
   "pygments_lexer": "ipython3",
   "version": "3.6.5"
  }
 },
 "nbformat": 4,
 "nbformat_minor": 2
}
